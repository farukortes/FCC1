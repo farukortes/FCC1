{
 "cells": [
  {
   "cell_type": "code",
   "execution_count": 4,
   "id": "b23d0f42",
   "metadata": {},
   "outputs": [
    {
     "name": "stdout",
     "output_type": "stream",
     "text": [
      "Enter a list of strings:\"32 + 8\", \"1 - 3801\", \"9999 + 9999\"\n",
      "\"32 + 8\", \"1 - 3801\", \"9999 + 9999\"\n",
      "User input list: ['\"32 + 8\"', '\"1 - 3801\"', '\"9999 + 9999\"']\n",
      "The length of list:  3\n",
      "Go on, the number of items is less than 5\n"
     ]
    }
   ],
   "source": [
    "# Error 1: Error: Too many problems.\n",
    "st=input('Enter a list of strings:')\n",
    "print(st)\n",
    "\n",
    "input_list=st.split(',')\n",
    "input_list = [element.strip() for element in input_list]  # Removing extra spaces\n",
    "print(\"User input list:\", input_list)\n",
    "\n",
    "\n",
    "lng=len(input_list)\n",
    "print('The length of list: ', lng)\n",
    "\n",
    "\n",
    "def arithmetic_arranger(list):\n",
    "    \"\"\"\n",
    "    1- Error: Too many problems.\n",
    "    # 1- length of list-- limit is 5,  Check if too many inputs are available\n",
    "    # For trials  \"32 + 8\", \"1 - 3801\", \"9999 + 9999\", \"523 - 49\",\"523 - 49\",\"523 - 49\"  ---too many\n",
    "    #   For trials \"32 + 8\", \"1 - 3801\", \"9999 + 9999\",---- less than 5\n",
    "    \"\"\"  \n",
    "    if lng>5:\n",
    "        return print(\"Error: Too many problems.\")\n",
    "        exit()\n",
    "    else:\n",
    "        print(\"Go on, the number of items is less than 5\")\n",
    "        \n",
    "arithmetic_arranger(list)\n",
    "\n",
    "# IT WORKS \n",
    "    "
   ]
  },
  {
   "cell_type": "code",
   "execution_count": 5,
   "id": "af6525b6",
   "metadata": {},
   "outputs": [
    {
     "name": "stdout",
     "output_type": "stream",
     "text": [
      "Enter a list of strings:\"32 * 8\", \"1 - 3801\", \"9999 + 9999\"\n",
      "\"32 * 8\", \"1 - 3801\", \"9999 + 9999\"\n",
      "User input list: ['\"32 * 8\"', '\"1 - 3801\"', '\"9999 + 9999\"']\n",
      "The operator *\n",
      "Error: Operator must be '+' or '-'.\n"
     ]
    }
   ],
   "source": [
    "# Error 2: Error: Operator must be '+' or '-'.\n",
    "st=input('Enter a list of strings:')\n",
    "print(st)\n",
    "\n",
    "input_list=st.split(',')\n",
    "input_list = [element.strip() for element in input_list]  # Removing extra spaces\n",
    "print(\"User input list:\", input_list)\n",
    "\n",
    "def arithmetic_arranger(list):\n",
    "#op=[]   \n",
    "    for x in input_list:\n",
    "        val=x.split(' ')\n",
    "        operator=val[1]\n",
    "        print(\"The operator\", operator)\n",
    "        #op.append(operator)\n",
    "        #print(op)\n",
    "        if operator == '+' or operator =='-':\n",
    "            print(\"Go on\")    \n",
    "        else:\n",
    "            print(\"Error: Operator must be '+' or '-'.\")\n",
    "            break\n",
    "\n",
    "arithmetic_arranger(list)\n",
    "       \n",
    "#  For trials \"32 * 8\", \"1 - 3801\", \"9999 + 9999\"\n",
    "        \n",
    "# Jupyter--delete cell-----------esc + d + d\n",
    "# Jupyter--delete cell-----------alt + enter  \n",
    "    \n",
    "# IT WORKS\n"
   ]
  },
  {
   "cell_type": "code",
   "execution_count": 1,
   "id": "b6f2910c",
   "metadata": {},
   "outputs": [
    {
     "name": "stdout",
     "output_type": "stream",
     "text": [
      "Enter a list of strings:\"32 * 8\", \"1a - 3801\", \"9999 + 9999\"\n",
      "\"32 * 8\", \"1a - 3801\", \"9999 + 9999\"\n",
      "User input list: ['\"32 * 8\"', '\"1a - 3801\"', '\"9999 + 9999\"']\n",
      "length of val 3\n",
      "['32', '*', '8']\n",
      "32\n",
      "8\n",
      "<class 'str'> <class 'str'>\n",
      "Go on\n",
      "length of val 3\n",
      "['1a', '-', '3801']\n",
      "1a\n",
      "3801\n",
      "<class 'str'> <class 'str'>\n",
      "Error: Numbers must only contain digits.\n"
     ]
    }
   ],
   "source": [
    "# Error 3: Error: Numbers must only contain digits.\n",
    "st=input('Enter a list of strings:')\n",
    "print(st)\n",
    "\n",
    "input_list=st.split(',')\n",
    "input_list = [element.strip() for element in input_list]  # Removing extra spaces\n",
    "print(\"User input list:\", input_list)\n",
    "      \n",
    "    \n",
    "#remove double quotes\n",
    "#input_list_nq =input_list.replace('\"','')\n",
    "#print(input_list_nq)\n",
    "\n",
    "def arithmetic_arranger(list):\n",
    "     for x in input_list:\n",
    "        x_new=x.replace('\"','')\n",
    "        val=x_new.split(' ')\n",
    "        print('length of val',len(val))\n",
    "        print(val)\n",
    "        val1=val[0]\n",
    "        print(val1)\n",
    "        val2=val[2]\n",
    "        print(val2)\n",
    "        print (type(val1), type(val2))\n",
    "        if (val1.isdigit()) and (val2.isdigit()):\n",
    "            print(\"Go on\")    \n",
    "        else:\n",
    "            print(\"Error: Numbers must only contain digits.\")\n",
    "            break\n",
    "\n",
    "arithmetic_arranger(list)\n",
    "\n",
    "#  For trials \"32 * 8\", \"1a - 3801\", \"9999 + 9999\"\n",
    "\n",
    "\n",
    "# Jupyter--delete cell-----------esc + d + d\n",
    "# Jupyter--delete cell-----------alt + enter  \n",
    "    \n",
    "# IT WORKS\n",
    "        "
   ]
  },
  {
   "cell_type": "code",
   "execution_count": 4,
   "id": "9795a329",
   "metadata": {},
   "outputs": [
    {
     "name": "stdout",
     "output_type": "stream",
     "text": [
      "Enter a list of strings:\"32 * 8\", \"1 - 30801\", \"9999 + 9999\"\n",
      "\"32 * 8\", \"1 - 30801\", \"9999 + 9999\"\n",
      "User input list: ['\"32 * 8\"', '\"1 - 30801\"', '\"9999 + 9999\"']\n",
      "length of val 3\n",
      "['32', '*', '8']\n",
      "32\n",
      "8\n",
      "<class 'str'> <class 'str'>\n",
      "Go on\n",
      "length of val 3\n",
      "['1', '-', '30801']\n",
      "1\n",
      "30801\n",
      "<class 'str'> <class 'str'>\n",
      "Error: Numbers cannot be more than four digits.\n"
     ]
    }
   ],
   "source": [
    "# Error 4: Error: Numbers cannot be more than four digits.\n",
    "st=input('Enter a list of strings:')\n",
    "print(st)\n",
    "\n",
    "input_list=st.split(',')\n",
    "input_list = [element.strip() for element in input_list]  # Removing extra spaces\n",
    "print(\"User input list:\", input_list)\n",
    "\n",
    "\n",
    "def arithmetic_arranger(list):\n",
    "     for x in input_list:\n",
    "        x_new=x.replace('\"','')\n",
    "        val=x_new.split(' ')\n",
    "        print('length of val',len(val))\n",
    "        print(val)\n",
    "        val1=val[0]\n",
    "        print(val1)\n",
    "        val2=val[2]\n",
    "        print(val2)\n",
    "        print (type(val1), type(val2))\n",
    "        if (len(val1)<=4) and (len(val2)<=4):\n",
    "            print(\"Go on\")    \n",
    "        else:\n",
    "            print(\"Error: Numbers cannot be more than four digits.\")\n",
    "            break\n",
    "\n",
    "arithmetic_arranger(list)\n",
    "\n",
    "#  For trials \"32 * 8\", \"1 - 30801\", \"9999 + 9999\"\n",
    "\n",
    "# Jupyter--delete cell-----------esc + d + d\n",
    "# Jupyter--delete cell-----------alt + enter  \n",
    "    \n",
    "# IT WORKS"
   ]
  },
  {
   "cell_type": "code",
   "execution_count": 26,
   "id": "a24287d6",
   "metadata": {},
   "outputs": [
    {
     "name": "stdout",
     "output_type": "stream",
     "text": [
      "Enter a list of strings:\"32 * 8\", \"1a - 3801\", \"9999 + 9999\"\n",
      "\"32 * 8\", \"1a - 3801\", \"9999 + 9999\"\n",
      "User input list: ['\"32 * 8\"', '\"1a - 3801\"', '\"9999 + 9999\"']\n",
      "The length of list:  3\n",
      "Go on, the number of items is less than 5\n",
      "The operator *\n",
      "Error: Operator must be '+' or '-'.\n"
     ]
    }
   ],
   "source": [
    "# Combine all errors\n",
    "st=input('Enter a list of strings:')\n",
    "print(st)\n",
    "\n",
    "input_list=st.split(',')\n",
    "input_list = [element.strip() for element in input_list]  # Removing extra spaces\n",
    "print(\"User input list:\", input_list)\n",
    "\n",
    "\n",
    "lng=len(input_list)\n",
    "print('The length of list: ', lng)\n",
    "\n",
    "\n",
    "def arithmetic_arranger(list):\n",
    "    \"\"\"\n",
    "    1- Error: Too many problems.\n",
    "    # 1- length of list-- limit is 5,  Check if too many inputs are available\n",
    "    # For trials  \"32 + 8\", \"1 - 3801\", \"9999 + 9999\", \"523 - 49\",\"523 - 49\",\"523 - 49\"  ---too many\n",
    "    #   For trials \"32 + 8\", \"1 - 3801\", \"9999 + 9999\",---- less than 5\n",
    "    \"\"\"\n",
    "    # error 1--ok\n",
    "    if lng>5:\n",
    "        print(\"Error: Too many problems.\")\n",
    "        return\n",
    "    else:\n",
    "        print(\"Go on, the number of items is less than 5\")\n",
    "  \n",
    "    # error 2--ok\n",
    "    for x in input_list:\n",
    "        val=x.split(' ')\n",
    "        operator=val[1]\n",
    "        print(\"The operator\", operator)\n",
    "        #op.append(operator)\n",
    "        #print(op)\n",
    "        if operator == '+' or operator =='-':\n",
    "            print(\"Go on\")    \n",
    "        else:\n",
    "            print(\"Error: Operator must be '+' or '-'.\")\n",
    "            return\n",
    "\n",
    "    for x in input_list:\n",
    "            x_new=x.replace('\"','')\n",
    "            val=x_new.split(' ')\n",
    "            print('length of val',len(val))\n",
    "            print(val)\n",
    "            val1=val[0]\n",
    "            print(val1)\n",
    "            val2=val[2]\n",
    "            print(val2)\n",
    "            print (type(val1), type(val2))\n",
    "            if (val1.isdigit()) and (val2.isdigit()):\n",
    "                print(\"Go on\")    \n",
    "            else:\n",
    "                return print(\"Error: Numbers must only contain digits.\")\n",
    "                return\n",
    "    for x in input_list:\n",
    "        x_new=x.replace('\"','')\n",
    "        val=x_new.split(' ')\n",
    "        print('length of val',len(val))\n",
    "        print(val)\n",
    "        val1=val[0]\n",
    "        print(val1)\n",
    "        val2=val[2]\n",
    "        print(val2)\n",
    "        print (type(val1), type(val2))\n",
    "        if (len(val1)<=4) and (len(val2)<=4):\n",
    "            print(\"Go on\")    \n",
    "        else:\n",
    "            print(\"Error: Numbers cannot be more than four digits.\")\n",
    "            break\n",
    "\n",
    "\n",
    "arithmetic_arranger(list)"
   ]
  },
  {
   "cell_type": "code",
   "execution_count": null,
   "id": "12f6730c",
   "metadata": {},
   "outputs": [],
   "source": []
  },
  {
   "cell_type": "code",
   "execution_count": null,
   "id": "a46c5b79",
   "metadata": {},
   "outputs": [],
   "source": []
  },
  {
   "cell_type": "code",
   "execution_count": null,
   "id": "d4b84d91",
   "metadata": {},
   "outputs": [],
   "source": []
  },
  {
   "cell_type": "code",
   "execution_count": null,
   "id": "c9bf41b8",
   "metadata": {},
   "outputs": [],
   "source": []
  },
  {
   "cell_type": "code",
   "execution_count": null,
   "id": "b55f18c1",
   "metadata": {},
   "outputs": [],
   "source": [
    "\"32 + 8\", \"1 - 3801\", \"9999 + 9999\", \"523 - 49\",\"523 - 49\",\"523 - 49\" "
   ]
  },
  {
   "cell_type": "code",
   "execution_count": null,
   "id": "e36fa7b6",
   "metadata": {},
   "outputs": [],
   "source": []
  },
  {
   "cell_type": "code",
   "execution_count": null,
   "id": "8e8aa53c",
   "metadata": {},
   "outputs": [],
   "source": []
  },
  {
   "cell_type": "code",
   "execution_count": null,
   "id": "e2fa4a3f",
   "metadata": {},
   "outputs": [],
   "source": []
  },
  {
   "cell_type": "code",
   "execution_count": null,
   "id": "0d2829e7",
   "metadata": {},
   "outputs": [],
   "source": [
    "\"32 + 8\", \"1 - 3801\", \"9999 + 9999\", \"523 - 49\",\"523 - 49\",\"523 - 49\" "
   ]
  },
  {
   "cell_type": "code",
   "execution_count": null,
   "id": "1de62d0d",
   "metadata": {},
   "outputs": [],
   "source": []
  },
  {
   "cell_type": "code",
   "execution_count": null,
   "id": "2b10afc9",
   "metadata": {},
   "outputs": [],
   "source": []
  },
  {
   "cell_type": "code",
   "execution_count": null,
   "id": "5e81370d",
   "metadata": {},
   "outputs": [],
   "source": []
  },
  {
   "cell_type": "code",
   "execution_count": null,
   "id": "2e42cf47",
   "metadata": {},
   "outputs": [],
   "source": []
  },
  {
   "cell_type": "code",
   "execution_count": null,
   "id": "2970a80d",
   "metadata": {},
   "outputs": [],
   "source": []
  },
  {
   "cell_type": "code",
   "execution_count": null,
   "id": "6b465fc8",
   "metadata": {},
   "outputs": [],
   "source": []
  },
  {
   "cell_type": "code",
   "execution_count": null,
   "id": "fcafb676",
   "metadata": {},
   "outputs": [],
   "source": []
  },
  {
   "cell_type": "code",
   "execution_count": null,
   "id": "24193387",
   "metadata": {},
   "outputs": [],
   "source": []
  },
  {
   "cell_type": "code",
   "execution_count": null,
   "id": "58c5e720",
   "metadata": {},
   "outputs": [],
   "source": []
  },
  {
   "cell_type": "code",
   "execution_count": null,
   "id": "6c95fbb1",
   "metadata": {},
   "outputs": [],
   "source": []
  },
  {
   "cell_type": "code",
   "execution_count": null,
   "id": "75182ca6",
   "metadata": {},
   "outputs": [],
   "source": []
  },
  {
   "cell_type": "code",
   "execution_count": null,
   "id": "d8d31128",
   "metadata": {},
   "outputs": [],
   "source": []
  },
  {
   "cell_type": "code",
   "execution_count": null,
   "id": "9c4959bd",
   "metadata": {},
   "outputs": [],
   "source": []
  },
  {
   "cell_type": "code",
   "execution_count": null,
   "id": "3a32e9a4",
   "metadata": {},
   "outputs": [],
   "source": []
  },
  {
   "cell_type": "code",
   "execution_count": null,
   "id": "5ab88d04",
   "metadata": {},
   "outputs": [],
   "source": []
  }
 ],
 "metadata": {
  "kernelspec": {
   "display_name": "Python 3 (ipykernel)",
   "language": "python",
   "name": "python3"
  },
  "language_info": {
   "codemirror_mode": {
    "name": "ipython",
    "version": 3
   },
   "file_extension": ".py",
   "mimetype": "text/x-python",
   "name": "python",
   "nbconvert_exporter": "python",
   "pygments_lexer": "ipython3",
   "version": "3.11.4"
  }
 },
 "nbformat": 4,
 "nbformat_minor": 5
}
