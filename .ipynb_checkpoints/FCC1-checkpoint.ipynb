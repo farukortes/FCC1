{
 "cells": [
  {
   "cell_type": "code",
   "execution_count": 1,
   "id": "b23d0f42",
   "metadata": {},
   "outputs": [
    {
     "name": "stdout",
     "output_type": "stream",
     "text": [
      "Enter a list of strings:\"32 + 8\", \"1 - 3801\", \"9999 + 9999\"\n",
      "\"32 + 8\", \"1 - 3801\", \"9999 + 9999\"\n",
      "User input list: ['\"32 + 8\"', '\"1 - 3801\"', '\"9999 + 9999\"']\n",
      "The length of list:  3\n"
     ]
    }
   ],
   "source": [
    "st=input('Enter a list of strings:')\n",
    "print(st)\n",
    "\n",
    "input_list=st.split(',')\n",
    "input_list = [element.strip() for element in input_list]  # Removing extra spaces\n",
    "print(\"User input list:\", input_list)\n",
    "\n",
    "\n",
    "lng=len(input_list)\n",
    "print('The length of list: ', lng)\n",
    "\n",
    "\n",
    "def arithmetic_arranger(list):\n",
    "    \"\"\"\n",
    "    1- Error: Too many problems.\n",
    "    # 1- length of list-- limit is 5,  Check if too many inputs are available\n",
    "    # For trials  \"32 + 8\", \"1 - 3801\", \"9999 + 9999\", \"523 - 49\",\"523 - 49\",\"523 - 49\"  ---too many\n",
    "    #   For trials \"32 + 8\", \"1 - 3801\", \"9999 + 9999\",---- less than 5 \"\"\"  \n",
    "    if lng>5:\n",
    "        return print(\"Error: Too many problems.\")\n",
    "        exit()\n",
    "    else:\n",
    "        print(\"Go on, the number of items is less than 5\")\n",
    "    \n",
    "arithmetic arranger()\n",
    "    "
   ]
  },
  {
   "cell_type": "code",
   "execution_count": null,
   "id": "af6525b6",
   "metadata": {},
   "outputs": [],
   "source": []
  }
 ],
 "metadata": {
  "kernelspec": {
   "display_name": "Python 3 (ipykernel)",
   "language": "python",
   "name": "python3"
  },
  "language_info": {
   "codemirror_mode": {
    "name": "ipython",
    "version": 3
   },
   "file_extension": ".py",
   "mimetype": "text/x-python",
   "name": "python",
   "nbconvert_exporter": "python",
   "pygments_lexer": "ipython3",
   "version": "3.11.4"
  }
 },
 "nbformat": 4,
 "nbformat_minor": 5
}
